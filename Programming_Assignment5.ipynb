{
 "cells": [
  {
   "cell_type": "markdown",
   "id": "bd7fa131-b808-4a95-9e2f-6c6e1d92c66d",
   "metadata": {},
   "source": [
    "# 1. Write a Python Program to Find LCM?"
   ]
  },
  {
   "cell_type": "code",
   "execution_count": 24,
   "id": "d6552083-60d4-4c0b-b3d4-5a1d3dc1cca6",
   "metadata": {},
   "outputs": [
    {
     "name": "stdin",
     "output_type": "stream",
     "text": [
      "Enter 1st number 10\n",
      "Enter 2nd number 5\n"
     ]
    },
    {
     "name": "stdout",
     "output_type": "stream",
     "text": [
      "LCM is 10\n"
     ]
    }
   ],
   "source": [
    "a = int(input(\"Enter 1st number\"))\n",
    "b = int(input(\"Enter 2nd number\"))\n",
    "if a > b:\n",
    "    bigger = a\n",
    "else:\n",
    "    bigger = b\n",
    "for i in range(bigger, (a * b) + 1):\n",
    "    if i % a == 0 and i % b == 0:\n",
    "        print(\"LCM is\" , i)\n",
    "        break"
   ]
  },
  {
   "cell_type": "markdown",
   "id": "ae55401d-3d36-4d5c-b802-b44cce29cadb",
   "metadata": {},
   "source": [
    "# 2. Write a Python Program to Find HCF?"
   ]
  },
  {
   "cell_type": "code",
   "execution_count": 30,
   "id": "87e0ef45-cf49-4c6e-a7e9-678799e6637d",
   "metadata": {},
   "outputs": [
    {
     "name": "stdin",
     "output_type": "stream",
     "text": [
      "Enter first number:  34\n",
      "Enter second number:  33\n"
     ]
    },
    {
     "name": "stdout",
     "output_type": "stream",
     "text": [
      "HCF is 1\n"
     ]
    }
   ],
   "source": [
    "a = int(input(\"Enter first number: \"))\n",
    "b = int(input(\"Enter second number: \"))\n",
    "\n",
    "if a < b:\n",
    "    smaller = a\n",
    "else:\n",
    "    smaller = b\n",
    "for i in range(1, smaller + 1):\n",
    "    if a % i == 0 and b % i == 0:\n",
    "        hcf = i\n",
    "print(\"HCF is\", hcf)"
   ]
  },
  {
   "cell_type": "markdown",
   "id": "0528ca07-3388-4c58-aba2-f3c3356f609a",
   "metadata": {},
   "source": [
    "# 3. Write a Python Program to Convert Decimal to Binary, Octal and Hexadecimal?"
   ]
  },
  {
   "cell_type": "code",
   "execution_count": 49,
   "id": "e0c7ede5-b4e8-434b-bdf3-961a56b20a36",
   "metadata": {},
   "outputs": [
    {
     "name": "stdin",
     "output_type": "stream",
     "text": [
      "Enter a decimal number:  32\n"
     ]
    },
    {
     "name": "stdout",
     "output_type": "stream",
     "text": [
      "Binary      : 100000\n",
      "Octal       : 40\n",
      "Hexadecimal : 20\n"
     ]
    }
   ],
   "source": [
    "number = int(input(\"Enter a decimal number: \"))\n",
    "\n",
    "binary = \"\"\n",
    "n = number\n",
    "while n > 0:\n",
    "    binary = str(n % 2) + binary\n",
    "    n = n // 2\n",
    "\n",
    "octal = \"\"\n",
    "n = number\n",
    "while n > 0:\n",
    "    octal = str(n % 8) + octal\n",
    "    n = n // 8\n",
    "hex_digits = \"0123456789ABCDEF\"\n",
    "hexadecimal = \"\"\n",
    "n = number\n",
    "while n > 0:\n",
    "    remainder = n % 16\n",
    "    hexadecimal = hex_digits[remainder] + hexadecimal\n",
    "    n = n // 16\n",
    "print(\"Binary      :\", binary)\n",
    "print(\"Octal       :\", octal)\n",
    "print(\"Hexadecimal :\", hexadecimal)"
   ]
  },
  {
   "cell_type": "markdown",
   "id": "8a453e2a-2dc8-4fe3-8dd4-07ea2a18784c",
   "metadata": {},
   "source": [
    "# 4. Write a Python Program To Find ASCII value of a character?"
   ]
  },
  {
   "cell_type": "code",
   "execution_count": 56,
   "id": "9d411e26-3a02-427c-8843-31aaef04a275",
   "metadata": {},
   "outputs": [
    {
     "name": "stdin",
     "output_type": "stream",
     "text": [
      "Enter a character:  A\n"
     ]
    },
    {
     "name": "stdout",
     "output_type": "stream",
     "text": [
      "ASCII value of 'A' is 65\n"
     ]
    }
   ],
   "source": [
    "char = input(\"Enter a character: \")\n",
    "ascii_value = ord(char)\n",
    "print(f\"ASCII value of '{char}' is {ascii_value}\")"
   ]
  },
  {
   "cell_type": "markdown",
   "id": "4b1a158b-e64d-4851-a8be-d256958b198f",
   "metadata": {},
   "source": [
    "# 5. Write a Python Program to Make a Simple Calculator with 4 basic mathematical operations?"
   ]
  },
  {
   "cell_type": "code",
   "execution_count": 8,
   "id": "493185ee-0722-4ff4-83bb-4a16efd3963c",
   "metadata": {},
   "outputs": [
    {
     "name": "stdin",
     "output_type": "stream",
     "text": [
      "First:  2\n",
      "Second:  3\n",
      "Operation (+ - * /):  *\n"
     ]
    },
    {
     "name": "stdout",
     "output_type": "stream",
     "text": [
      "6.0\n"
     ]
    }
   ],
   "source": [
    "a = float(input(\"First: \"))\n",
    "b = float(input(\"Second: \"))\n",
    "op = input(\"Operation (+ - * /): \")\n",
    "\n",
    "if op == '+':\n",
    "    print(a + b)\n",
    "elif op == '-':\n",
    "    print(a - b)\n",
    "elif op == '*':\n",
    "    print(a * b)\n",
    "elif op == '/':\n",
    "    print(a / b if b != 0 else \"Error: Divide by zero\")\n",
    "else:\n",
    "    print(\"Invalid operation\")"
   ]
  },
  {
   "cell_type": "code",
   "execution_count": null,
   "id": "58726838-a0b0-471e-a158-3abbde6b0091",
   "metadata": {},
   "outputs": [],
   "source": []
  }
 ],
 "metadata": {
  "kernelspec": {
   "display_name": "Python [conda env:base] *",
   "language": "python",
   "name": "conda-base-py"
  },
  "language_info": {
   "codemirror_mode": {
    "name": "ipython",
    "version": 3
   },
   "file_extension": ".py",
   "mimetype": "text/x-python",
   "name": "python",
   "nbconvert_exporter": "python",
   "pygments_lexer": "ipython3",
   "version": "3.12.7"
  }
 },
 "nbformat": 4,
 "nbformat_minor": 5
}
